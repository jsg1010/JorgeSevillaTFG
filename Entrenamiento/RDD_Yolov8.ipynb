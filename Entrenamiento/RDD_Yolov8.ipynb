{
  "nbformat": 4,
  "nbformat_minor": 0,
  "metadata": {
    "colab": {
      "provenance": [],
      "gpuType": "T4"
    },
    "kernelspec": {
      "name": "python3",
      "display_name": "Python 3"
    },
    "language_info": {
      "name": "python"
    },
    "accelerator": "GPU"
  },
  "cells": [
    {
      "cell_type": "code",
      "execution_count": null,
      "metadata": {
        "id": "HEv3Ze-lL3Uf"
      },
      "outputs": [],
      "source": [
        "import zipfile\n",
        "import requests\n",
        "import cv2\n",
        "import matplotlib.pyplot as plt\n",
        "import glob\n",
        "import random\n",
        "import os"
      ]
    },
    {
      "cell_type": "code",
      "source": [
        "!pip install ultralytics"
      ],
      "metadata": {
        "id": "ODGjllZIOk1I"
      },
      "execution_count": null,
      "outputs": []
    },
    {
      "cell_type": "code",
      "source": [
        "os.makedirs('datasets', exist_ok=True)"
      ],
      "metadata": {
        "id": "ACPb2lfIOsLU"
      },
      "execution_count": null,
      "outputs": []
    },
    {
      "cell_type": "code",
      "source": [
        "%cd datasets"
      ],
      "metadata": {
        "colab": {
          "base_uri": "https://localhost:8080/"
        },
        "id": "uzyWec3tOvt1",
        "outputId": "12a54ff8-2e05-4038-8a6d-9f6b8e78e21f"
      },
      "execution_count": null,
      "outputs": [
        {
          "output_type": "stream",
          "name": "stdout",
          "text": [
            "/content/datasets\n"
          ]
        }
      ]
    },
    {
      "cell_type": "code",
      "source": [
        "def download_file(url, save_name):\n",
        "    url = url\n",
        "    if not os.path.exists(save_name):\n",
        "        file = requests.get(url)\n",
        "        open(save_name, 'wb').write(file.content)\n",
        "\n",
        "download_file(\n",
        "    'https://www.dropbox.com/s/qvglw8pqo16769f/pothole_dataset_v8.zip?dl=1',\n",
        "    'pothole_dataset_v8.zip'\n",
        ")"
      ],
      "metadata": {
        "id": "S4QDbg23O1kq"
      },
      "execution_count": null,
      "outputs": []
    },
    {
      "cell_type": "code",
      "source": [
        "# Unzip the data file\n",
        "def unzip(zip_file=None):\n",
        "    try:\n",
        "        with zipfile.ZipFile(zip_file) as z:\n",
        "            z.extractall(\"./\")\n",
        "            print(\"Extracted all\")\n",
        "    except:\n",
        "        print(\"Invalid file\")\n",
        "\n",
        "unzip('pothole_dataset_v8.zip')"
      ],
      "metadata": {
        "colab": {
          "base_uri": "https://localhost:8080/"
        },
        "id": "WnCqaHOpO58N",
        "outputId": "5692196e-5925-48a2-9b19-410ec35cff30"
      },
      "execution_count": null,
      "outputs": [
        {
          "output_type": "stream",
          "name": "stdout",
          "text": [
            "Extracted all\n"
          ]
        }
      ]
    },
    {
      "cell_type": "code",
      "source": [
        "%cd .."
      ],
      "metadata": {
        "colab": {
          "base_uri": "https://localhost:8080/"
        },
        "id": "GGg0P0t6PFY-",
        "outputId": "b564be1f-f818-4893-d3c0-2a884fd8b42a"
      },
      "execution_count": null,
      "outputs": [
        {
          "output_type": "stream",
          "name": "stdout",
          "text": [
            "/content\n"
          ]
        }
      ]
    },
    {
      "cell_type": "code",
      "source": [
        "# Function to convert bounding boxes in YOLO format to xmin, ymin, xmax, ymax.\n",
        "def yolo2bbox(bboxes):\n",
        "    xmin, ymin = bboxes[0]-bboxes[2]/2, bboxes[1]-bboxes[3]/2\n",
        "    xmax, ymax = bboxes[0]+bboxes[2]/2, bboxes[1]+bboxes[3]/2\n",
        "    return xmin, ymin, xmax, ymax"
      ],
      "metadata": {
        "id": "JmC3qliBPHQ1"
      },
      "execution_count": null,
      "outputs": []
    },
    {
      "cell_type": "code",
      "source": [
        "def plot_box(image, bboxes, labels):\n",
        "    # Need the image height and width to denormalize\n",
        "    # the bounding box coordinates\n",
        "    h, w, _ = image.shape\n",
        "    for box_num, box in enumerate(bboxes):\n",
        "        x1, y1, x2, y2 = yolo2bbox(box)\n",
        "        # Denormalize the coordinates.\n",
        "        xmin = int(x1*w)\n",
        "        ymin = int(y1*h)\n",
        "        xmax = int(x2*w)\n",
        "        ymax = int(y2*h)\n",
        "\n",
        "        thickness = max(2, int(w/275))\n",
        "\n",
        "        cv2.rectangle(\n",
        "            image,\n",
        "            (xmin, ymin), (xmax, ymax),\n",
        "            color=(0, 0, 255),\n",
        "            thickness=thickness\n",
        "        )\n",
        "    return image"
      ],
      "metadata": {
        "id": "D420BnpcPInR"
      },
      "execution_count": null,
      "outputs": []
    },
    {
      "cell_type": "code",
      "source": [
        "# Function to plot images with the bounding boxes.\n",
        "def plot(image_paths, label_paths, num_samples):\n",
        "    all_images = []\n",
        "    all_images.extend(glob.glob(image_paths+'/*.jpg'))\n",
        "    all_images.extend(glob.glob(image_paths+'/*.JPG'))\n",
        "\n",
        "    all_images.sort()\n",
        "\n",
        "    num_images = len(all_images)\n",
        "\n",
        "    plt.figure(figsize=(15, 12))\n",
        "    for i in range(num_samples):\n",
        "        j = random.randint(0,num_images-1)\n",
        "        image_name = all_images[j]\n",
        "        image_name = '.'.join(image_name.split(os.path.sep)[-1].split('.')[:-1])\n",
        "        image = cv2.imread(all_images[j])\n",
        "        with open(os.path.join(label_paths, image_name+'.txt'), 'r') as f:\n",
        "            bboxes = []\n",
        "            labels = []\n",
        "            label_lines = f.readlines()\n",
        "            for label_line in label_lines:\n",
        "                label = label_line[0]\n",
        "                bbox_string = label_line[2:]\n",
        "                x_c, y_c, w, h = bbox_string.split(' ')\n",
        "                x_c = float(x_c)\n",
        "                y_c = float(y_c)\n",
        "                w = float(w)\n",
        "                h = float(h)\n",
        "                bboxes.append([x_c, y_c, w, h])\n",
        "                labels.append(label)\n",
        "        result_image = plot_box(image, bboxes, labels)\n",
        "        plt.subplot(2, 2, i+1)\n",
        "        plt.imshow(result_image[:, :, ::-1])\n",
        "        plt.axis('off')\n",
        "    plt.subplots_adjust(wspace=1)\n",
        "    plt.tight_layout()\n",
        "    plt.show()"
      ],
      "metadata": {
        "id": "sVUVs5hNPMv6"
      },
      "execution_count": null,
      "outputs": []
    },
    {
      "cell_type": "code",
      "source": [
        "# Visualize a few training images.\n",
        "plot(\n",
        "    image_paths='datasets/pothole_dataset_v8/train/images/',\n",
        "    label_paths='datasets/pothole_dataset_v8/train/labels/',\n",
        "    num_samples=4,\n",
        ")"
      ],
      "metadata": {
        "id": "SizxDkT1POta"
      },
      "execution_count": null,
      "outputs": []
    },
    {
      "cell_type": "code",
      "source": [
        "%%writefile pothole_v8.yaml\n",
        "path: 'pothole_dataset_v8/'\n",
        "train: 'train/images'\n",
        "val: 'valid/images'\n",
        "\n",
        "# class names\n",
        "names:\n",
        "  0: 'pothole'"
      ],
      "metadata": {
        "colab": {
          "base_uri": "https://localhost:8080/"
        },
        "id": "DPCuqJy9PV81",
        "outputId": "5b4da794-2496-44ca-c00e-2c023e345fdd"
      },
      "execution_count": null,
      "outputs": [
        {
          "output_type": "stream",
          "name": "stdout",
          "text": [
            "Writing pothole_v8.yaml\n"
          ]
        }
      ]
    },
    {
      "cell_type": "code",
      "source": [
        "# Sample training for 5 epoch.\n",
        "EPOCHS = 15\n",
        "!yolo task=detect mode=train model=yolov8n.pt imgsz=1280 data=pothole_v8.yaml epochs={EPOCHS} batch=24 name=yolov8n_v8_50e"
      ],
      "metadata": {
        "id": "-2bLZZXPPaY2"
      },
      "execution_count": null,
      "outputs": []
    },
    {
      "cell_type": "code",
      "source": [
        "!yolo task=detect mode=val model=runs/detect/yolov8n_v8_50e5/weights/best.pt name=yolov8n_eval data=pothole_v8.yaml"
      ],
      "metadata": {
        "id": "bz1SAdUGPlAN"
      },
      "execution_count": null,
      "outputs": []
    },
    {
      "cell_type": "code",
      "source": [
        "!yolo task=detect \\\n",
        "mode=predict \\\n",
        "model=runs/detect/yolov8n_v8_50e5/weights/best.pt \\\n",
        "source=datasets/pothole_dataset_v8/inference \\\n",
        "imgsz=1280 \\\n",
        "name=yolov8n_v8_50e_infer1280 \\\n",
        "hide_labels=True"
      ],
      "metadata": {
        "id": "pd4UqJ6JPnAJ"
      },
      "execution_count": null,
      "outputs": []
    },
    {
      "cell_type": "code",
      "source": [
        "# Plot and visualize images in a 2x2 grid.\n",
        "def visualize(result_dir, num_samples=4):\n",
        "    \"\"\"\n",
        "    Function accepts a list of images and plots\n",
        "    them in a 2x2 grid.\n",
        "    \"\"\"\n",
        "    plt.figure(figsize=(20, 12))\n",
        "    image_names = glob.glob(os.path.join(result_dir, '*.jpg'))\n",
        "    random.shuffle(image_names)\n",
        "    for i, image_name in enumerate(image_names):\n",
        "        image = plt.imread(image_name)\n",
        "        plt.subplot(2, 2, i+1)\n",
        "        plt.imshow(image)\n",
        "        plt.axis('off')\n",
        "        if i == num_samples-1:\n",
        "            break\n",
        "    plt.tight_layout()\n",
        "    plt.show()"
      ],
      "metadata": {
        "id": "-7z_j1EbPqc1"
      },
      "execution_count": null,
      "outputs": []
    },
    {
      "cell_type": "code",
      "source": [
        "visualize('runs/detect/yolov8n_v8_50e_infer1280/')"
      ],
      "metadata": {
        "id": "DeEAZCgdPsFs"
      },
      "execution_count": null,
      "outputs": []
    }
  ]
}